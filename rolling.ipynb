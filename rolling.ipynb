{
  "nbformat": 4,
  "nbformat_minor": 0,
  "metadata": {
    "colab": {
      "name": "Untitled43.ipynb",
      "provenance": [],
      "authorship_tag": "ABX9TyPXEB0avMfoMQztTIqrJWzG",
      "include_colab_link": true
    },
    "kernelspec": {
      "name": "python3",
      "display_name": "Python 3"
    },
    "language_info": {
      "name": "python"
    }
  },
  "cells": [
    {
      "cell_type": "markdown",
      "metadata": {
        "id": "view-in-github",
        "colab_type": "text"
      },
      "source": [
        "<a href=\"https://colab.research.google.com/github/Awesome-Areej/musical-umbrella/blob/main/rolling.ipynb\" target=\"_parent\"><img src=\"https://colab.research.google.com/assets/colab-badge.svg\" alt=\"Open In Colab\"/></a>"
      ]
    },
    {
      "cell_type": "code",
      "execution_count": null,
      "metadata": {
        "id": "zYATyeFpfTM-"
      },
      "outputs": [],
      "source": [
        "import numpy as np"
      ]
    },
    {
      "cell_type": "code",
      "source": [
        "# recursive rolling\n",
        "\n",
        "def run():\n",
        "  random = [np.random.choice([\"stripe\", \"cross\", \"blank\"]) for i in range(4)]\n",
        "  if set(random) == {\"stripe\"}:\n",
        "    return run()\n",
        "  elif sorted(random) == sorted([\"stripe, stripe, stripe, blank\"]):\n",
        "    return run()\n",
        "  elif sorted(random) == sorted([\"stripe, stripe, stripe, cross\"]):\n",
        "    return run()\n",
        "  elif sorted(random) == sorted([\"cross, cross, cross, blank\"]):\n",
        "    return run()\n",
        "  elif sorted(random) == sorted([\"cross, cross, cross, stripe\"]):\n",
        "    return run()\n",
        "  elif set(random) == {\"cross\"}:\n",
        "    return run()\n",
        "  else:\n",
        "    return random\n"
      ],
      "metadata": {
        "id": "LGsa-xHMfcZy"
      },
      "execution_count": null,
      "outputs": []
    },
    {
      "cell_type": "code",
      "source": [
        "for i in range(10):\n",
        "  print(run())"
      ],
      "metadata": {
        "colab": {
          "base_uri": "https://localhost:8080/"
        },
        "id": "nt_bgPfLf5wN",
        "outputId": "e219fd40-2317-4662-e36c-42a369c9ebab"
      },
      "execution_count": null,
      "outputs": [
        {
          "output_type": "stream",
          "name": "stdout",
          "text": [
            "['blank', 'cross', 'stripe', 'blank']\n",
            "['blank', 'cross', 'stripe', 'stripe']\n",
            "['cross', 'stripe', 'stripe', 'cross']\n",
            "['blank', 'cross', 'blank', 'stripe']\n",
            "['stripe', 'blank', 'stripe', 'stripe']\n",
            "['cross', 'cross', 'stripe', 'blank']\n",
            "['cross', 'stripe', 'cross', 'cross']\n",
            "['blank', 'stripe', 'cross', 'cross']\n",
            "['stripe', 'cross', 'blank', 'stripe']\n",
            "['blank', 'stripe', 'stripe', 'blank']\n"
          ]
        }
      ]
    },
    {
      "cell_type": "code",
      "source": [
        "\n",
        "def points():\n",
        "  word = run()\n",
        "  print (f\"your draw {word}\")\n",
        "  res = []\n",
        "  # if set(word) == {\"stripe\"}:\n",
        "  #   res = 5\n",
        "  # elif set(word) == {\"cross\"}:\n",
        "  #   res = 5\n",
        "  if set(word) == {\"cross\", \"stripe\"}:\n",
        "    res = 5\n",
        "  elif set(word) == {\"blank\"}:\n",
        "    res = 4\n",
        "  elif sorted(word) == sorted([\"cross\", \"cross\", \"blank\", \"blank\"]):\n",
        "    res = 3\n",
        "  elif sorted(word) == sorted([\"stripe\", \"stripe\", \"blank\", \"blank\"]):\n",
        "    res = 2\n",
        "  elif sorted(word) == sorted([\"cross\", \"stripe\", \"blank\", \"blank\"]):\n",
        "    res = 1\n",
        "  else:\n",
        "    res = 0\n",
        "  if res> 0:\n",
        "    print(f\"😀 your points {res}\")\n",
        "  else:\n",
        "    print(f\"😱 your points {res}\")\n",
        "  return None"
      ],
      "metadata": {
        "id": "Lx1d3MaxnYYJ"
      },
      "execution_count": null,
      "outputs": []
    },
    {
      "cell_type": "code",
      "source": [
        "points()"
      ],
      "metadata": {
        "colab": {
          "base_uri": "https://localhost:8080/"
        },
        "id": "Y5AiOSIwtEXC",
        "outputId": "379f7b7d-24f3-478a-cf0e-99f83f981d15"
      },
      "execution_count": null,
      "outputs": [
        {
          "output_type": "stream",
          "name": "stdout",
          "text": [
            "your draw ['stripe', 'stripe', 'stripe', 'blank']\n",
            "😱 your points 0\n"
          ]
        }
      ]
    },
    {
      "cell_type": "code",
      "source": [
        "for i in range(5):\n",
        "  print (points())"
      ],
      "metadata": {
        "colab": {
          "base_uri": "https://localhost:8080/"
        },
        "id": "MrjxXL2Nxme0",
        "outputId": "d11a39c1-a31f-48b8-864d-420522e26a6b"
      },
      "execution_count": null,
      "outputs": [
        {
          "output_type": "stream",
          "name": "stdout",
          "text": [
            "your draw ['blank', 'cross', 'stripe', 'cross']\n",
            "😱 your points 0\n",
            "None\n",
            "your draw ['cross', 'blank', 'blank', 'cross']\n",
            "😀 your points 3\n",
            "None\n",
            "your draw ['stripe', 'stripe', 'blank', 'cross']\n",
            "😱 your points 0\n",
            "None\n",
            "your draw ['stripe', 'blank', 'blank', 'stripe']\n",
            "😀 your points 2\n",
            "None\n",
            "your draw ['cross', 'stripe', 'blank', 'cross']\n",
            "😱 your points 0\n",
            "None\n"
          ]
        }
      ]
    },
    {
      "cell_type": "code",
      "source": [
        ""
      ],
      "metadata": {
        "id": "W31OAu6nybIf"
      },
      "execution_count": null,
      "outputs": []
    }
  ]
}